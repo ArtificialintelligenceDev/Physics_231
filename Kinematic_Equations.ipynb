{
  "nbformat": 4,
  "nbformat_minor": 0,
  "metadata": {
    "colab": {
      "name": "Kinematic_Equations.ipynb",
      "version": "0.3.2",
      "provenance": []
    },
    "kernelspec": {
      "name": "python3",
      "display_name": "Python 3"
    }
  },
  "cells": [
    {
      "metadata": {
        "id": "HnJVE5xKQTHD",
        "colab_type": "text"
      },
      "cell_type": "markdown",
      "source": [
        "# STCC Classical Physics I: Newtonian Mechanics PHY-231\n",
        "\n",
        "This Google Colab nb is a way for me to better understand my Physics 1 course I am taking at my local Community College. Hopefully it is helpful to you. Today we are going to use 3 basic kinematic equations and solve some applicable physics based problems."
      ]
    },
    {
      "metadata": {
        "id": "mrrwYk-JSbBy",
        "colab_type": "text"
      },
      "cell_type": "markdown",
      "source": [
        "## Kinematic Equations\n",
        "\n",
        "Horizontal Motion:\n",
        "\n",
        " $v_0x=v_x , x = x_0 +v_x t$ \n",
        " \n",
        " \n",
        " Vertical Motion: \n",
        " \n",
        " $y = y_0 + \\frac{1}{2}(v_0y + v_y) t$ \n",
        " \n",
        " $v_y = v_0 - gt$\n",
        " \n",
        " $y=y_0 + v_0t - \\frac{1}{2}gt^2$\n",
        " \n",
        " $v_y^2=v_0^2 -2g\\Delta y$\n",
        "\n",
        "\n",
        "The variables are:  \n",
        "- final velocity, $v_f$\n",
        "- initial velocity, $v_0$\n",
        "- final velocity, $v_f$\n",
        "- Change in position, $\\Delta y$ $\\equiv$  $(y - y_0)$\n",
        "- time, $t$\n",
        "\n",
        "\n"
      ]
    },
    {
      "metadata": {
        "id": "6veYt9WrWs29",
        "colab_type": "text"
      },
      "cell_type": "markdown",
      "source": [
        "## Calculating Projectile Motion: Tennis Player\n",
        "\n",
        "A tennis player wins a match at Arthur Ashe stadium and hits a ball into the stands at 30 m/s and at an angle\n",
        "45° above the horizontal (Figure 4.14). On its way down, the ball is caught by a spectator 10 m above the\n",
        "point where the ball was hit. (a) Calculate the time it takes the tennis ball to reach the spectator. (b) What are the\n",
        "magnitude and direction of the ball’s velocity at impact?\n",
        "![alt text](https://github.com/ArtificialintelligenceDev/Physics_231/blob/master/Figure_4.14.PNG)"
      ]
    },
    {
      "metadata": {
        "id": "xZbbm5YejXlY",
        "colab_type": "text"
      },
      "cell_type": "markdown",
      "source": [
        "### Strategy to solve:\n",
        "This example asks for the final velocity. Thus, we recombine the vertical and horizontal results to obtain $\\overrightarrow{v}$ at final time t, determined in the first part of the example.\n",
        "\n",
        "### Solution:\n",
        "(a) While the ball is in the air, it rises and then falls to a final position 10.0 m higher than its starting altitude. We\n",
        "can find the time for this by using Equation 4.22:\n",
        "\n",
        "$y=y_0 + v_0t - \\frac{1}{2}gt^2$\n",
        "\n",
        "If we take the initial position $y_0$ to be zero, then the final position is y = 10 m. The initial vertical velocity is the\n",
        "vertical component of the initial velocity:\n",
        "\n",
        "$v_0 = v_0 sin \\theta_0=(30.0m/s)sin45^{\\circ}=21.1 m/s $\n",
        "\n"
      ]
    },
    {
      "metadata": {
        "id": "pyv-QiLZnudF",
        "colab_type": "code",
        "colab": {}
      },
      "cell_type": "code",
      "source": [
        "import math\n",
        "v_0 = 30\n",
        "y = v_0 * math.sin(45)\n",
        "delta_Y = 10\n",
        "g = 9.8"
      ],
      "execution_count": 0,
      "outputs": []
    },
    {
      "metadata": {
        "id": "GBKOKCLFrGy5",
        "colab_type": "text"
      },
      "cell_type": "markdown",
      "source": [
        "Substituting into Equation 4.22 for y gives us:\n",
        "\n",
        "$(4.90 m/s^2)t^2 - (21.2 m/s)t + 10.0 m = 0$"
      ]
    },
    {
      "metadata": {
        "id": "FUi7BBOqojza",
        "colab_type": "code",
        "colab": {
          "base_uri": "https://localhost:8080/",
          "height": 34
        },
        "outputId": "02ef781b-9c3f-4e2a-9465-f55d54f0aa34"
      },
      "cell_type": "code",
      "source": [
        "# Solve the quadratic equation ax**2 + bx + c = 0\n",
        "\n",
        "# import complex math module\n",
        "import cmath\n",
        "\n",
        "a = 4.9\n",
        "b = -21.2\n",
        "c = 10\n",
        "\n",
        "\n",
        "# calculate the discriminant\n",
        "d = (b**2) - (4*a*c)\n",
        "\n",
        "# find two solutions\n",
        "sol1 = (-b-cmath.sqrt(d))/(2*a)\n",
        "sol2 = (-b+cmath.sqrt(d))/(2*a)\n",
        "\n",
        "print('The solution are {0} and {1}'.format(sol1,sol2))"
      ],
      "execution_count": 5,
      "outputs": [
        {
          "output_type": "stream",
          "text": [
            "The solution are (0.5387960210504162+0j) and (3.7877345911944813+0j)\n"
          ],
          "name": "stdout"
        }
      ]
    },
    {
      "metadata": {
        "id": "KKFBQJreu_Xq",
        "colab_type": "code",
        "colab": {}
      },
      "cell_type": "code",
      "source": [
        "t = sol2"
      ],
      "execution_count": 0,
      "outputs": []
    },
    {
      "metadata": {
        "id": "GdrvWAInsEWA",
        "colab_type": "text"
      },
      "cell_type": "markdown",
      "source": [
        "Using the quadratic formula yields t = 3.79 s and t = 0.54 s. Since the ball is at a height of 10 m at two times\n",
        "during its trajectory—once on the way up and once on the way down—we take the longer solution for the time it\n",
        "takes the ball to reach the spectator:\n",
        "\n",
        "$t=3.79 s$\n",
        "\n",
        "The time for projectile motion is determined completely by the vertical motion. Thus, any projectile that has an\n",
        "initial vertical velocity of 21.2 m/s and lands 10.0 m below its starting altitude spends 3.79 s in the air.\n",
        "\n"
      ]
    },
    {
      "metadata": {
        "id": "P1qKWyDhsaan",
        "colab_type": "text"
      },
      "cell_type": "markdown",
      "source": [
        "(b) ) We can find the final horizontal and vertical velocities $v_x$ and $v_y$ and vy with the use of the result from (a). Then, we can combine them to find the magnitude of the total velocity vector $\\overrightarrow{v}$ and the angle θ it makes with the horizontal. Since $v_x$ is constant, we can solve for it at any horizontal location. We choose the starting point because we know both the initial velocity and the initial angle. Therefore:\n",
        "$v_x=v_0 cos(\\theta_0)=(30 m/s) cos45^{\\circ}= 15.75 m/s$"
      ]
    },
    {
      "metadata": {
        "id": "vwdwHaovr5zQ",
        "colab_type": "code",
        "colab": {
          "base_uri": "https://localhost:8080/",
          "height": 34
        },
        "outputId": "b5023b5c-3029-437f-99cf-cb900c35df38"
      },
      "cell_type": "code",
      "source": [
        "v_x = v_0 * math.cos(45)\n",
        "v_x"
      ],
      "execution_count": 6,
      "outputs": [
        {
          "output_type": "execute_result",
          "data": {
            "text/plain": [
              "15.759659664531892"
            ]
          },
          "metadata": {
            "tags": []
          },
          "execution_count": 6
        }
      ]
    },
    {
      "metadata": {
        "id": "8J1S9GZQuYTa",
        "colab_type": "text"
      },
      "cell_type": "markdown",
      "source": [
        "The final vertical velocity is given by Equation 4.21:\n",
        "\n",
        "$v_y = v_0 - gt$"
      ]
    },
    {
      "metadata": {
        "id": "7S03J5AVvMiH",
        "colab_type": "text"
      },
      "cell_type": "markdown",
      "source": [
        "Since $v_0$ was found in part (a) to be 21.2 m/s, we have:\n",
        "\n",
        "$v_y = 21.2 m/s - 9.8 m/s^2 (3.79 s) = -7.11 m/s$"
      ]
    },
    {
      "metadata": {
        "id": "DeazPUVpuD4f",
        "colab_type": "code",
        "colab": {
          "base_uri": "https://localhost:8080/",
          "height": 34
        },
        "outputId": "47fba131-906d-4986-f1cd-a8a61d5d9ab6"
      },
      "cell_type": "code",
      "source": [
        "v_y = v_0 - g * t\n",
        "v_y"
      ],
      "execution_count": 8,
      "outputs": [
        {
          "output_type": "execute_result",
          "data": {
            "text/plain": [
              "(-7.1197989937059205+0j)"
            ]
          },
          "metadata": {
            "tags": []
          },
          "execution_count": 8
        }
      ]
    },
    {
      "metadata": {
        "id": "JuXyg2Ukv2oC",
        "colab_type": "text"
      },
      "cell_type": "markdown",
      "source": [
        "The magnitude of the final velocity $\\overrightarrow{v}$ is :\n",
        "\n",
        "$v = \\sqrt{v_x^2 + v_y^2}= \\sqrt{(21.2 m/s)^2 + (-15.9 m/s)^2}= 17.29 m/s $"
      ]
    },
    {
      "metadata": {
        "id": "5J6b0T7dwu5N",
        "colab_type": "code",
        "colab": {
          "base_uri": "https://localhost:8080/",
          "height": 34
        },
        "outputId": "76445278-201a-448f-de15-fa1eda88a04c"
      },
      "cell_type": "code",
      "source": [
        "# sqrt function doesn't allow complex numbers so we will use the approx. -7.11\n",
        "v_y = -7.11\n",
        "v = math.sqrt(v_x**2 + v_y**2)\n",
        "v"
      ],
      "execution_count": 11,
      "outputs": [
        {
          "output_type": "execute_result",
          "data": {
            "text/plain": [
              "17.289273343373154"
            ]
          },
          "metadata": {
            "tags": []
          },
          "execution_count": 11
        }
      ]
    },
    {
      "metadata": {
        "id": "59LxmDtJxoq2",
        "colab_type": "text"
      },
      "cell_type": "markdown",
      "source": [
        "The direction $ \\theta_v is found using the inverse tangent:\n",
        "\n",
        "$ \\theta_v = tan^{-1}(\\frac{v_y}{v_x}) = tan^{-1}(\\frac{21.2}{-15.9})=$"
      ]
    },
    {
      "metadata": {
        "id": "J3ZNJ_PPxJph",
        "colab_type": "code",
        "colab": {
          "base_uri": "https://localhost:8080/",
          "height": 34
        },
        "outputId": "810763f5-7a7c-4545-f11d-9d2ce9451f82"
      },
      "cell_type": "code",
      "source": [
        "import numpy as np\n",
        "theta_v = np.arctan(v_y/v_x)\n",
        "theta_v"
      ],
      "execution_count": 14,
      "outputs": [
        {
          "output_type": "execute_result",
          "data": {
            "text/plain": [
              "-0.4238114129485152"
            ]
          },
          "metadata": {
            "tags": []
          },
          "execution_count": 14
        }
      ]
    },
    {
      "metadata": {
        "id": "FgOBS-6Iz-Mr",
        "colab_type": "text"
      },
      "cell_type": "markdown",
      "source": [
        "## Significance\n",
        "(a) As mentioned earlier, the time for projectile motion is determined completely by the vertical motion. Thus,\n",
        "any projectile that has an initial vertical velocity of 21.2 m/s and lands 10.0 m below its starting altitude spends\n",
        "3.79 s in the air. (b) The negative angle means the velocity is 53.1° below the horizontal at the point of impact.\n",
        "This result is consistent with the fact that the ball is impacting at a point on the other side of the apex of the\n",
        "trajectory and therefore has a negative y component of the velocity. The magnitude of the velocity is less than the\n",
        "magnitude of the initial velocity we expect since it is impacting 10.0 m above the launch elevation."
      ]
    },
    {
      "metadata": {
        "id": "hA5DvNEmzMhd",
        "colab_type": "code",
        "colab": {}
      },
      "cell_type": "code",
      "source": [
        ""
      ],
      "execution_count": 0,
      "outputs": []
    }
  ]
}
